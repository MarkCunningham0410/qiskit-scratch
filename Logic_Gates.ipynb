{
  "cells": [
    {
      "cell_type": "code",
      "execution_count": 1,
      "metadata": {
        "trusted": true
      },
      "outputs": [],
      "source": "%matplotlib inline\n# Importing standard Qiskit libraries and configuring account\nfrom qiskit import *\nfrom qiskit.tools.visualization import plot_histogram\nimport numpy as np\n# Loading your IBM Q account(s)\nprovider = IBMQ.load_account()"
    },
    {
      "cell_type": "code",
      "execution_count": 2,
      "metadata": {
        "trusted": true
      },
      "outputs": [],
      "source": "def not_gate(input):\n\n    q = QuantumRegister(1) # a qubit in which to encode and manipulate the input\n    c = ClassicalRegister(1) # a bit to store the output\n    qc = QuantumCircuit(q, c) # this is where the quantum program goes\n    \n    # We encode '0' as the qubit state |0⟩, and '1' as |1⟩\n    # Since the qubit is initially |0⟩, we don't need to do anything for an input of '0'\n    # For an input of '1', we do an x to rotate the |0⟩ to |1⟩\n    if input=='1':\n        qc.x( q[0] )\n        \n    # Now we've encoded the input, we can do a NOT on it using x\n    qc.x( q[0] )\n    \n    # Finally, we extract the |0⟩/|1⟩ output of the qubit and encode it in the bit c[0]\n    qc.measure( q[0], c[0] )\n    \n    # We'll run the program on a simulator\n    backend = Aer.get_backend('qasm_simulator')\n    # Since the output will be deterministic, we can use just a single shot to get it\n    job = execute(qc,backend,shots=1)\n    output = next(iter(job.result().get_counts()))\n    \n    return output"
    },
    {
      "cell_type": "code",
      "execution_count": 3,
      "metadata": {
        "trusted": true
      },
      "outputs": [
        {
          "name": "stdout",
          "output_type": "stream",
          "text": "0 1\n"
        }
      ],
      "source": "x = not_gate(\"1\")\ny = not_gate(\"0\")\nprint(str(x) + \" \" +str(y))"
    },
    {
      "cell_type": "code",
      "execution_count": 8,
      "metadata": {
        "trusted": true
      },
      "outputs": [],
      "source": "def xor_gate(input1,input2):\n    \n    q = QuantumRegister(3) # two qubits in which to encode the input, and one for the output\n    c = ClassicalRegister(1) # a bit to store the output\n    qc = QuantumCircuit(q, c) # this is where the quantum program goes\n    \n\n    if input1==\"1\":\n        qc.x(q[0])\n    if input2==\"1\":\n        qc.x(q[1])\n    \n    qc.cx(q[0],q[2])\n    qc.cx(q[1],q[2])\n    \n    qc.measure(2,0) # YOU CAN CHANGE THIS IF YOU WANT TO\n    \n    # We'll run the program on a simulator\n    backend = Aer.get_backend('qasm_simulator')\n    # Since the output will be deterministic, we can use just a single shot to get it\n    job = execute(qc,backend,shots=1,memory=True)\n    output = job.result().get_memory()\n    \n    return output"
    },
    {
      "cell_type": "code",
      "execution_count": 9,
      "metadata": {
        "trusted": true
      },
      "outputs": [],
      "source": "w, x, y, z = xor_gate(\"0\",\"0\"), xor_gate(\"1\",\"0\"), xor_gate(\"0\",\"1\"), xor_gate(\"1\",\"1\")"
    },
    {
      "cell_type": "code",
      "execution_count": 10,
      "metadata": {
        "trusted": true
      },
      "outputs": [
        {
          "data": {
            "text/plain": "(['0'], ['1'], ['1'], ['0'])"
          },
          "execution_count": 10,
          "metadata": {},
          "output_type": "execute_result"
        }
      ],
      "source": "w,x,y,z"
    },
    {
      "cell_type": "code",
      "execution_count": 74,
      "metadata": {
        "trusted": true
      },
      "outputs": [],
      "source": "def and_gate(input1,input2):\n    q = QuantumRegister(3) # two qubits in which to encode the input, and one for the output\n    c = ClassicalRegister(1) # a bit to store the output\n    qc = QuantumCircuit(q, c) # this is where the quantum program goes\n    \n\n    if input1==\"1\":\n        qc.x(q[0])\n    if input2==\"1\":\n        qc.x(q[1])\n    \n    qc.ccx(q[0],q[1],q[2])\n    \n    qc.measure(2,0) # YOU CAN CHANGE THIS IF YOU WANT TO\n    \n    # We'll run the program on a simulator\n    backend = Aer.get_backend('qasm_simulator')\n    # Since the output will be deterministic, we can use just a single shot to get it\n    job = execute(qc,backend,shots=1,memory=True)\n    output = job.result().get_memory()\n    \n    return output"
    },
    {
      "cell_type": "code",
      "execution_count": 30,
      "metadata": {
        "trusted": true
      },
      "outputs": [],
      "source": "w, x, y, z = and_gate(\"0\",\"0\"), and_gate(\"1\",\"0\"), and_gate(\"0\",\"1\"), and_gate(\"1\",\"1\")"
    },
    {
      "cell_type": "code",
      "execution_count": 31,
      "metadata": {
        "trusted": true
      },
      "outputs": [
        {
          "data": {
            "text/plain": "(['0'], ['0'], ['0'], ['1'])"
          },
          "execution_count": 31,
          "metadata": {},
          "output_type": "execute_result"
        }
      ],
      "source": "w,x,y,z"
    },
    {
      "cell_type": "code",
      "execution_count": 135,
      "metadata": {
        "trusted": true
      },
      "outputs": [],
      "source": "def or_gate(input1,input2):\n    q = QuantumRegister(3) # two qubits in which to encode the input, and one for the output\n    c = ClassicalRegister(1) # a bit to store the output\n    qc = QuantumCircuit(q, c) # this is where the quantum program goes\n    \n\n    if input1==\"1\":\n        qc.x(q[0])\n    if input2==\"1\":\n        qc.x(q[1])\n    \n    qc.h(q[1])\n    qc.h(q[0])\n    qc.cx(q[1],q[2])\n    \n    qc.measure(2,0) # YOU CAN CHANGE THIS IF YOU WANT TO\n    \n    # We'll run the program on a simulator\n    backend = Aer.get_backend('qasm_simulator')\n    # Since the output will be deterministic, we can use just a single shot to get it\n    job = execute(qc,backend,shots=1,memory=True)\n    output = job.result().get_memory()\n    \n    \n    return output"
    },
    {
      "cell_type": "code",
      "execution_count": 136,
      "metadata": {
        "trusted": true
      },
      "outputs": [],
      "source": "w, x, y, z = or_gate(\"0\",\"0\"), or_gate(\"1\",\"0\"), or_gate(\"0\",\"1\"), or_gate(\"1\",\"1\")"
    },
    {
      "cell_type": "code",
      "execution_count": 140,
      "metadata": {
        "trusted": true
      },
      "outputs": [
        {
          "data": {
            "text/plain": "['1']"
          },
          "execution_count": 140,
          "metadata": {},
          "output_type": "execute_result"
        }
      ],
      "source": "x"
    },
    {
      "cell_type": "code",
      "execution_count": null,
      "metadata": {
        "trusted": true
      },
      "outputs": [],
      "source": ""
    }
  ],
  "metadata": {
    "kernelspec": {
      "display_name": "Python 3",
      "language": "python",
      "name": "python3"
    },
    "language_info": {
      "codemirror_mode": {
        "name": "ipython",
        "version": 3
      },
      "file_extension": ".py",
      "mimetype": "text/x-python",
      "name": "python",
      "nbconvert_exporter": "python",
      "pygments_lexer": "ipython3",
      "version": "3.7.3"
    }
  },
  "nbformat": 4,
  "nbformat_minor": 2
}