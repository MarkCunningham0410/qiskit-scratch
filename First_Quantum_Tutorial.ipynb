{
  "cells": [
    {
      "cell_type": "code",
      "execution_count": 1,
      "metadata": {
        "trusted": true
      },
      "outputs": [],
      "source": "%matplotlib inline\nfrom qiskit import *"
    },
    {
      "cell_type": "markdown",
      "metadata": {},
      "source": "# First Quantum Circuit\n## Also First Quantum Register\nRegister consists of two qubits, called qr\nWe add this register to the quantum circuit\n"
    },
    {
      "cell_type": "code",
      "execution_count": 2,
      "metadata": {
        "trusted": true
      },
      "outputs": [],
      "source": "qc = QuantumCircuit()\nqr = QuantumRegister(2,'qreg')\nqc.add_register(qr)\nqc.qregs"
    },
    {
      "cell_type": "code",
      "execution_count": null,
      "metadata": {
        "trusted": true
      },
      "outputs": [],
      "source": "qc.draw(output = 'mpl')"
    },
    {
      "cell_type": "markdown",
      "metadata": {},
      "source": "# Applying Gates\n##  i.e making something happen\nWe are telling the H Gate to act on the first qubit in the register"
    },
    {
      "cell_type": "code",
      "execution_count": 7,
      "metadata": {
        "trusted": true
      },
      "outputs": [
        {
          "data": {
            "text/plain": "<qiskit.circuit.instructionset.InstructionSet at 0x7ffab9dc9da0>"
          },
          "execution_count": 7,
          "metadata": {},
          "output_type": "execute_result"
        }
      ],
      "source": "qc.h(qr[0])"
    },
    {
      "cell_type": "markdown",
      "metadata": {},
      "source": "We can then add a controlled NOT gate to both qubits using `cx`\nThis takes two arguments - the control qubit and the target qubit"
    },
    {
      "cell_type": "code",
      "execution_count": 8,
      "metadata": {
        "trusted": true
      },
      "outputs": [
        {
          "data": {
            "text/plain": "<qiskit.circuit.instructionset.InstructionSet at 0x7ffab9f81eb8>"
          },
          "execution_count": 8,
          "metadata": {},
          "output_type": "execute_result"
        }
      ],
      "source": "qc.cx(qr[0],qr[1])"
    },
    {
      "cell_type": "code",
      "execution_count": 9,
      "metadata": {
        "trusted": true
      },
      "outputs": [
        {
          "data": {
            "image/png": "[encoded data removed]",
            "text/plain": "<Figure size 309.428x144.48 with 1 Axes>"
          },
          "execution_count": 9,
          "metadata": {},
          "output_type": "execute_result"
        }
      ],
      "source": "qc.draw(output='mpl')"
    },
    {
      "cell_type": "markdown",
      "metadata": {},
      "source": "# Statevector Simulation\nLooking at the output of a circuit, looking at the state vector of the two qubits."
    },
    {
      "cell_type": "code",
      "execution_count": 11,
      "metadata": {
        "trusted": true
      },
      "outputs": [],
      "source": "vector_sim = Aer.get_backend('statevector_simulator')"
    },
    {
      "cell_type": "code",
      "execution_count": 12,
      "metadata": {
        "trusted": true
      },
      "outputs": [
        {
          "data": {
            "text/plain": "[<QasmSimulator('qasm_simulator') from AerProvider()>,\n <StatevectorSimulator('statevector_simulator') from AerProvider()>,\n <UnitarySimulator('unitary_simulator') from AerProvider()>]"
          },
          "execution_count": 12,
          "metadata": {},
          "output_type": "execute_result"
        }
      ],
      "source": "Aer.backends()"
    },
    {
      "cell_type": "code",
      "execution_count": 13,
      "metadata": {
        "trusted": true
      },
      "outputs": [],
      "source": "job = execute (qc,vector_sim)"
    },
    {
      "cell_type": "code",
      "execution_count": 14,
      "metadata": {
        "trusted": true
      },
      "outputs": [
        {
          "name": "stdout",
          "output_type": "stream",
          "text": "(0.7071067811865476+0j)\n0j\n0j\n(0.7071067811865475+0j)\n"
        }
      ],
      "source": "ket = job.result().get_statevector()\nfor amplitude in ket:\n    print(amplitude)"
    },
    {
      "cell_type": "markdown",
      "metadata": {},
      "source": "This is the vector of a Bell State (|00> + |11>)/ sqrt(2)."
    },
    {
      "cell_type": "code",
      "execution_count": 15,
      "metadata": {
        "scrolled": true,
        "trusted": true
      },
      "outputs": [
        {
          "data": {
            "image/png": "[encoded data removed]",
            "text/plain": "<Figure size 550.228x144.48 with 1 Axes>"
          },
          "execution_count": 15,
          "metadata": {},
          "output_type": "execute_result"
        }
      ],
      "source": "new_qc = QuantumCircuit(qr)\nnew_qc.initialize(ket,qr)\nnew_qc.draw(output = 'mpl')"
    },
    {
      "cell_type": "code",
      "execution_count": 19,
      "metadata": {
        "trusted": true
      },
      "outputs": [],
      "source": "cr = ClassicalRegister(2,'creg')\nqc.add_register(cr)"
    },
    {
      "cell_type": "code",
      "execution_count": 20,
      "metadata": {
        "trusted": true
      },
      "outputs": [
        {
          "data": {
            "image/png": "[encoded data removed]",
            "text/plain": "<Figure size 429.828x204.68 with 1 Axes>"
          },
          "execution_count": 20,
          "metadata": {},
          "output_type": "execute_result"
        }
      ],
      "source": "qc.measure(qr[0],cr[0])\nqc.measure(qr[1],cr[1])\n\nqc.draw(output='mpl')"
    },
    {
      "cell_type": "code",
      "execution_count": 21,
      "metadata": {
        "trusted": true
      },
      "outputs": [],
      "source": "emulator = Aer.get_backend('qasm_simulator')\njob = execute(qc, emulator, shots = 8192)"
    },
    {
      "cell_type": "code",
      "execution_count": 24,
      "metadata": {
        "trusted": true
      },
      "outputs": [
        {
          "name": "stdout",
          "output_type": "stream",
          "text": "{'00': 4064, '11': 4128}\n"
        }
      ],
      "source": "hist = job.result().get_counts()\nprint(hist)"
    },
    {
      "cell_type": "code",
      "execution_count": 25,
      "metadata": {
        "trusted": true
      },
      "outputs": [
        {
          "data": {
            "image/png": "[encoded data removed]",
            "text/plain": "<Figure size 504x360 with 1 Axes>"
          },
          "execution_count": 25,
          "metadata": {},
          "output_type": "execute_result"
        }
      ],
      "source": "from qiskit.tools.visualization import plot_histogram\nplot_histogram(hist)"
    },
    {
      "cell_type": "code",
      "execution_count": 26,
      "metadata": {
        "trusted": true
      },
      "outputs": [
        {
          "name": "stdout",
          "output_type": "stream",
          "text": "['00', '00', '11', '11', '00', '11', '11', '00', '11', '11']\n"
        }
      ],
      "source": "job = execute(qc,emulator, shots = 10, memory = True)\nsamples = job.result().get_memory()\nprint(samples)"
    },
    {
      "cell_type": "code",
      "execution_count": 27,
      "metadata": {
        "trusted": true
      },
      "outputs": [],
      "source": "qubit = QuantumRegister(8)\nbit = ClassicalRegister(8)\ncircuit = QuantumCircuit(qubit,bit)\n\ncircuit.x(qubit[7])\ncircuit.measure(qubit,bit) # all at once\nresult = execute(circuit,emulator,shots = 8192).result().get_counts()"
    },
    {
      "cell_type": "code",
      "execution_count": 28,
      "metadata": {
        "trusted": true
      },
      "outputs": [
        {
          "data": {
            "text/plain": "{'10000000': 8192}"
          },
          "execution_count": 28,
          "metadata": {},
          "output_type": "execute_result"
        }
      ],
      "source": "result"
    },
    {
      "cell_type": "markdown",
      "metadata": {},
      "source": "# Simplified Notation"
    },
    {
      "cell_type": "code",
      "execution_count": 29,
      "metadata": {
        "trusted": true
      },
      "outputs": [],
      "source": "qc = QuantumCircuit(3)"
    },
    {
      "cell_type": "code",
      "execution_count": 30,
      "metadata": {
        "trusted": true
      },
      "outputs": [
        {
          "data": {
            "image/png": "[encoded data removed]",
            "text/plain": "<Figure size 216.72x204.68 with 1 Axes>"
          },
          "execution_count": 30,
          "metadata": {},
          "output_type": "execute_result"
        }
      ],
      "source": "qc.h(1)\nqc.draw(output = 'mpl')"
    },
    {
      "cell_type": "code",
      "execution_count": 31,
      "metadata": {
        "trusted": true
      },
      "outputs": [],
      "source": "qc = QuantumCircuit(2,1)"
    },
    {
      "cell_type": "code",
      "execution_count": 32,
      "metadata": {
        "trusted": true
      },
      "outputs": [
        {
          "data": {
            "image/png": "[encoded data removed]",
            "text/plain": "<Figure size 337.12x204.68 with 1 Axes>"
          },
          "execution_count": 32,
          "metadata": {},
          "output_type": "execute_result"
        }
      ],
      "source": "qc.h(0)\nqc.cx(0,1)\nqc.measure(1,0)\nqc.draw(output = 'mpl')"
    },
    {
      "cell_type": "markdown",
      "metadata": {},
      "source": "# Creating Custom Gates"
    },
    {
      "cell_type": "code",
      "execution_count": 35,
      "metadata": {
        "trusted": true
      },
      "outputs": [
        {
          "data": {
            "image/png": "[encoded data removed]",
            "text/plain": "<Figure size 397.32x204.68 with 1 Axes>"
          },
          "execution_count": 35,
          "metadata": {},
          "output_type": "execute_result"
        }
      ],
      "source": "sub_circuit = QuantumCircuit(3, name = 'toggle_cx')\nsub_circuit.cx(0,1)\nsub_circuit.cx(1,2)\nsub_circuit.cx(0,1)\nsub_circuit.cx(1,2)\n\nsub_circuit.draw(output= 'mpl')"
    },
    {
      "cell_type": "code",
      "execution_count": 37,
      "metadata": {
        "trusted": true
      },
      "outputs": [],
      "source": "toggle_cx = sub_circuit.to_instruction()"
    },
    {
      "cell_type": "code",
      "execution_count": 38,
      "metadata": {
        "trusted": true
      },
      "outputs": [
        {
          "data": {
            "image/png": "[encoded data removed]",
            "text/plain": "<Figure size 287.756x264.88 with 1 Axes>"
          },
          "execution_count": 38,
          "metadata": {},
          "output_type": "execute_result"
        }
      ],
      "source": "qr = QuantumRegister(4)\nnew_qc = QuantumCircuit(qr)\nnew_qc.append(toggle_cx, [qr[1],qr[2],qr[3]])\nnew_qc.draw(output= 'mpl')"
    },
    {
      "cell_type": "markdown",
      "metadata": {},
      "source": "# On Real Quantum Hardware"
    },
    {
      "cell_type": "code",
      "execution_count": 39,
      "metadata": {
        "trusted": true
      },
      "outputs": [
        {
          "name": "stderr",
          "output_type": "stream",
          "text": "/opt/conda/lib/python3.7/site-packages/qiskit/providers/ibmq/ibmqfactory.py:181: UserWarning: Credentials are already in use. The existing account in the session will be replaced.\n  warnings.warn('Credentials are already in use. The existing '\n"
        },
        {
          "data": {
            "text/plain": "<AccountProvider for IBMQ(hub='ibm-q', group='open', project='main')>"
          },
          "execution_count": 39,
          "metadata": {},
          "output_type": "execute_result"
        }
      ],
      "source": "IBMQ.load_account()"
    },
    {
      "cell_type": "code",
      "execution_count": 40,
      "metadata": {
        "trusted": true
      },
      "outputs": [
        {
          "data": {
            "text/plain": "[<IBMQSimulator('ibmq_qasm_simulator') from IBMQ(hub='ibm-q', group='open', project='main')>,\n <IBMQBackend('ibmqx2') from IBMQ(hub='ibm-q', group='open', project='main')>,\n <IBMQBackend('ibmq_16_melbourne') from IBMQ(hub='ibm-q', group='open', project='main')>,\n <IBMQBackend('ibmq_vigo') from IBMQ(hub='ibm-q', group='open', project='main')>,\n <IBMQBackend('ibmq_ourense') from IBMQ(hub='ibm-q', group='open', project='main')>]"
          },
          "execution_count": 40,
          "metadata": {},
          "output_type": "execute_result"
        }
      ],
      "source": "provider = IBMQ.get_provider(hub = 'ibm-q')\nprovider.backends()"
    },
    {
      "cell_type": "code",
      "execution_count": 41,
      "metadata": {
        "trusted": true
      },
      "outputs": [
        {
          "name": "stdout",
          "output_type": "stream",
          "text": "BackendStatus(backend_name='ibmq_qasm_simulator', backend_version='0.0.0', operational=True, pending_jobs=15, status_msg='active')\nBackendStatus(backend_name='ibmqx2', backend_version='2.0.0', operational=True, pending_jobs=212, status_msg='active')\nBackendStatus(backend_name='ibmq_16_melbourne', backend_version='1.0.0', operational=True, pending_jobs=3, status_msg='active')\nBackendStatus(backend_name='ibmq_vigo', backend_version='1.0.1', operational=True, pending_jobs=1, status_msg='active')\nBackendStatus(backend_name='ibmq_ourense', backend_version='1.0.1', operational=True, pending_jobs=2, status_msg='active')\n"
        }
      ],
      "source": "for backend in provider.backends():\n    print(backend.status())"
    },
    {
      "cell_type": "code",
      "execution_count": 42,
      "metadata": {
        "trusted": true
      },
      "outputs": [],
      "source": "real_device = provider.get_backend('ibmq_16_melbourne')"
    },
    {
      "cell_type": "code",
      "execution_count": 44,
      "metadata": {
        "trusted": true
      },
      "outputs": [],
      "source": "properties = real_device.properties()\ncoupling_map = real_device.configuration().coupling_map"
    },
    {
      "cell_type": "code",
      "execution_count": 46,
      "metadata": {
        "trusted": true
      },
      "outputs": [],
      "source": "from qiskit.providers.aer import noise\nnoise_model = noise.device.basic_device_noise_model(properties)"
    },
    {
      "cell_type": "code",
      "execution_count": 47,
      "metadata": {
        "trusted": true
      },
      "outputs": [
        {
          "data": {
            "text/plain": "<qiskit.circuit.instructionset.InstructionSet at 0x7ffa4d68d898>"
          },
          "execution_count": 47,
          "metadata": {},
          "output_type": "execute_result"
        }
      ],
      "source": "qc = QuantumCircuit(2,2)\nqc.x(1)\nqc.measure(0,0)\nqc.measure(1,1)"
    },
    {
      "cell_type": "code",
      "execution_count": 48,
      "metadata": {
        "trusted": true
      },
      "outputs": [
        {
          "data": {
            "text/plain": "{'00': 72, '11': 19, '10': 932, '01': 1}"
          },
          "execution_count": 48,
          "metadata": {},
          "output_type": "execute_result"
        }
      ],
      "source": "job = execute(qc,emulator, shots = 1024, noise_model = noise_model,\n             coupling_map = coupling_map,\n             basis_gates = noise_model.basis_gates)\n\njob.result().get_counts()"
    },
    {
      "cell_type": "code",
      "execution_count": null,
      "metadata": {
        "trusted": true
      },
      "outputs": [],
      "source": ""
    }
  ],
  "metadata": {
    "kernelspec": {
      "display_name": "Python 3",
      "language": "python",
      "name": "python3"
    },
    "language_info": {
      "codemirror_mode": {
        "name": "ipython",
        "version": 3
      },
      "file_extension": ".py",
      "mimetype": "text/x-python",
      "name": "python",
      "nbconvert_exporter": "python",
      "pygments_lexer": "ipython3",
      "version": "3.7.3"
    }
  },
  "nbformat": 4,
  "nbformat_minor": 2
}